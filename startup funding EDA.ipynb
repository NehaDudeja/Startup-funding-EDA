{
 "cells": [
  {
   "cell_type": "code",
   "execution_count": 8,
   "metadata": {},
   "outputs": [
    {
     "name": "stdout",
     "output_type": "stream",
     "text": [
      "NCR 705\n"
     ]
    },
    {
     "data": {
      "image/png": "[encoded data removed]",
      "text/plain": [
       "<Figure size 432x288 with 1 Axes>"
      ]
     },
     "metadata": {
      "needs_background": "light"
     },
     "output_type": "display_data"
    }
   ],
   "source": [
    "#Question 1\n",
    "import pandas as pd\n",
    "import matplotlib.pyplot as plt\n",
    "file_data=pd.read_csv(r\"C:\\Users\\nidhi\\Desktop\\startup_funding.csv\")\n",
    "file_data.dropna(subset=[\"CityLocation\"],inplace=True)\n",
    "file_data[\"CityLocation\"].replace(\"Delhi\",\"NewDelhi\",inplace=True)\n",
    "file_data[\"CityLocation\"].replace(\"bangalore\",\"Bangalore\",inplace=True)\n",
    "d1={}\n",
    "for i in (file_data[\"CityLocation\"].str.strip()):\n",
    "    if \"Bangalore\" in i:\n",
    "        d1[\"Bangalore\"] = d1.get(\"Bangalore\",0) + 1  \n",
    "    elif \"Mumbai\" in i:\n",
    "        d1[\"Mumbai\"] = d1.get(\"Mumbai\",0) + 1\n",
    "    elif (\"New Delhi\" in i) or (\"Noida\" in i) or (\"Gurgaon\" in i):\n",
    "        d1[\"NCR\"] = d1.get(\"NCR\",0) + 1\n",
    "    \n",
    "ans=sorted(d1,key=d1.get,reverse=True)\n",
    "number_of_fundings=[]\n",
    "for i in ans:\n",
    "    number_of_fundings.append(d1[i])\n",
    "print(ans[0],number_of_fundings[0])    \n",
    "\n",
    "\n",
    "plt.bar(ans,number_of_fundings)\n",
    "plt.xlabel(\"CityLocation\")\n",
    "plt.ylabel(\"Number of fundings\")\n",
    "plt.show()"
   ]
  },
  {
   "cell_type": "markdown",
   "metadata": {},
   "source": [
    "# Code Explanation\n",
    "In the first question we have to find the location(out of Mumbai,Bangalore and NCR)where startups has received funding maximum number of times.\n",
    "So,for doing this first I have imported the libraries Pandas and Matplotlib.\n",
    "1)Importing the libraries Pandas and Matplotlib\n",
    "2)Reading the file through pd.read_csv fuction\n",
    "3)Cleaning the data by removing NaN values and taking care about Case sensitiveness.\n",
    "4)Making a dictionary which consists of location as a key and number of funding as a value.This dictionary also takes care about the startups having multiple locations using strip() function\n",
    "5)Now I have sorted the dictionary in descending order and printing the key which is present at first.\n",
    "6)Now I have plotted the bar Graph taking the list consisting of the locations(Mumbai,NCR,Bangalore)as x axis and the list consisting of the number of funding as Y axis.\n",
    "# Result\n",
    "So the result of the code and the graph shows that the top location is NCR\n",
    "So,i will suggest my friend to open his startup in NCR.\n"
   ]
  },
  {
   "cell_type": "code",
   "execution_count": 10,
   "metadata": {},
   "outputs": [
    {
     "name": "stdout",
     "output_type": "stream",
     "text": [
      "Sequoia Capital\n",
      "Accel Partners\n",
      "Kalaari Capital\n",
      "SAIF Partners\n",
      "Indian Angel Network\n"
     ]
    }
   ],
   "source": [
    "#Question2\n",
    "import pandas as pd\n",
    "import matplotlib.pyplot as plt\n",
    "file_data=pd.read_csv(r\"C:\\Users\\nidhi\\Desktop\\startup_funding.csv\")\n",
    "file_data.dropna(subset=[\"InvestorsName\"],inplace=True)\n",
    "def createdict(x):\n",
    "    dictionary={}\n",
    "    for ele in x:\n",
    "        if \",\" not in ele:\n",
    "            if ele in dictionary:\n",
    "                dictionary[ele]=dictionary.get(ele)+1\n",
    "            else:\n",
    "                dictionary[ele]=1\n",
    "        else:\n",
    "            string=ele.split(\",\")\n",
    "            for i in string:\n",
    "                i=i.strip()\n",
    "                if i in dictionary:\n",
    "                    dictionary[i]=dictionary.get(i)+1\n",
    "                else:\n",
    "                    dictionary[i]=1\n",
    "    return dictionary\n",
    "ans=createdict(file_data[\"InvestorsName\"])\n",
    "a=sorted(ans,key=ans.get,reverse=True)[0:5]\n",
    "for i in a:\n",
    "    print(i)"
   ]
  },
  {
   "cell_type": "markdown",
   "metadata": {},
   "source": [
    "# Code Explanation\n",
    "In the second question we have to find the top 5 investors who have invested maximum number of times (consider repeat investments in one company also).\n",
    "So for doing this I have done the following steps\n",
    "1)Importing the libraries Pandas and Matplotlib.\n",
    "2)Reading the file through pd.read_csv fuction .\n",
    "3)Cleaning the data by removing NaN values.\n",
    "4)Creating a dictionary which consists of the investors name as key and Number of times the investor has invested as value.(Considering repeat investments in one company also).\n",
    "5)Now i have sorted the above dictionary in descending order and made a list of top 5 investors and then printed them.\n",
    "# Result\n",
    "So the result of the code shows that top 5 investors are :\n",
    "Sequoia Capital\n",
    "Accel Partners\n",
    "Kalaari Capital\n",
    "SAIF Partners\n",
    "Indian Angel Network\n",
    "\n",
    "\n"
   ]
  },
  {
   "cell_type": "code",
   "execution_count": 12,
   "metadata": {},
   "outputs": [
    {
     "name": "stdout",
     "output_type": "stream",
     "text": [
      "Sequoia Capital\n",
      "Accel Partners\n",
      "Kalaari Capital\n",
      "Indian Angel Network\n",
      "Blume Ventures\n"
     ]
    }
   ],
   "source": [
    "#Question3\n",
    "import pandas as pd\n",
    "import matplotlib.pyplot as plt\n",
    "file_data=pd.read_csv(r\"C:\\Users\\nidhi\\Desktop\\startup_funding.csv\")\n",
    "file_data.dropna(subset=[\"InvestorsName\",\"StartupName\"],inplace=True)\n",
    "file_data[\"StartupName\"].replace(\"Flipkart.com\",\"Flipkart\",inplace = True)\n",
    "file_data[\"StartupName\"].replace(\"Ola Cabs\",\"Ola\",inplace = True)\n",
    "file_data[\"StartupName\"].replace(\"Olacabs\",\"Ola\",inplace = True)\n",
    "file_data[\"StartupName\"].replace(\"Oyorooms\",\"Oyo\",inplace = True)\n",
    "file_data[\"StartupName\"].replace(\"OyoRooms\",\"Oyo\",inplace = True)\n",
    "file_data[\"StartupName\"].replace(\"OYO Rooms\",\"Oyo\",inplace = True)\n",
    "file_data[\"StartupName\"].replace(\"Oyo Rooms\",\"Oyo\",inplace = True)\n",
    "file_data[\"StartupName\"].replace(\"Paytm Marketplace\",\"Paytm\",inplace = True)\n",
    "d={}\n",
    "val=file_data.index\n",
    "for i in val:\n",
    "    a=file_data[\"InvestorsName\"][i].strip()\n",
    "\n",
    "    if \",\" in a:\n",
    "        aa=a.split(\",\")\n",
    "        for ele in aa:\n",
    "            ele=ele.strip()\n",
    "            if ele in d:\n",
    "                d[ele].add(file_data[\"StartupName\"][i].strip())\n",
    "            else:\n",
    "                s=set()\n",
    "                d[ele]=s\n",
    "                d[ele].add(file_data[\"StartupName\"][i].strip())\n",
    "    else:\n",
    "        if a in d:\n",
    "            d[a].add(file_data[\"StartupName\"][i].strip())\n",
    "        else:\n",
    "            s=set()\n",
    "            d[a]=s\n",
    "            d[a].add(file_data[\"StartupName\"][i].strip())\n",
    "dd={}           \n",
    "for i in d:\n",
    "    if i == \"\":\n",
    "        continue\n",
    "    dd[i] = len(d[i])\n",
    "answ=sorted(dd,key=dd.get,reverse=True)[0:5]\n",
    "for ele in answ:\n",
    "    print(ele)\n",
    "\n",
    "    "
   ]
  },
  {
   "cell_type": "markdown",
   "metadata": {},
   "source": [
    "# Code Explanation\n",
    "In the third question we have to find the top 5 investors who have invested maximum number of times in different companies. That means, if one investor has invested multiple times in one startup, count one for that company. \n",
    "So for doing this I have done the following steps\n",
    "1)Importing the libraries Pandas and Matplotlib.\n",
    "2)Reading the file through pd.read_csv fuction.\n",
    "3)Cleaning the dataset by removing the Nan Values and making changes in the column \"StartupName\".\n",
    "4)Creating the dictionary consisting of the investors name as key and a set consisting of the startup name in which that investor has invested as value of that key.\n",
    "5)Now creating another dictionary with the help of previous dictionary with the investors name as key and the number of  distinct startups in which he has invested as value .\n",
    "6)Now sorting the new dictionary in descending order and printing the list of top 5 investors .\n",
    "# Result\n",
    "So the result of the code shows that the top 5 investors who have invested maximum number of times in different companies are:\n",
    "Sequoia Capital\n",
    "Accel Partners\n",
    "Kalaari Capital\n",
    "Indian Angel Network\n",
    "Blume Ventures"
   ]
  },
  {
   "cell_type": "code",
   "execution_count": 15,
   "metadata": {},
   "outputs": [
    {
     "name": "stdout",
     "output_type": "stream",
     "text": [
      "Indian Angel Network\n",
      "Rajan Anandan\n",
      "LetsVenture\n",
      "Anupam Mittal\n",
      "Kunal Shah\n"
     ]
    }
   ],
   "source": [
    "#Question4\n",
    "import pandas as pd\n",
    "import matplotlib.pyplot as plt\n",
    "file_data=pd.read_csv(r\"C:\\Users\\nidhi\\Desktop\\startup_funding.csv\")\n",
    "file_data.dropna(subset=[\"InvestorsName\",\"StartupName\",\"InvestmentType\"],inplace=True)\n",
    "file_data[\"StartupName\"].replace(\"Flipkart.com\",\"Flipkart\",inplace = True)\n",
    "file_data[\"StartupName\"].replace(\"Ola Cabs\",\"Ola\",inplace = True)\n",
    "file_data[\"StartupName\"].replace(\"Olacabs\",\"Ola\",inplace = True)\n",
    "file_data[\"StartupName\"].replace(\"Oyorooms\",\"Oyo\",inplace = True)\n",
    "file_data[\"StartupName\"].replace(\"OyoRooms\",\"Oyo\",inplace = True)\n",
    "file_data[\"StartupName\"].replace(\"OYO Rooms\",\"Oyo\",inplace = True)\n",
    "file_data[\"StartupName\"].replace(\"Oyo Rooms\",\"Oyo\",inplace = True)\n",
    "file_data[\"StartupName\"].replace(\"Paytm Marketplace\",\"Paytm\",inplace = True)\n",
    "file_data[\"InvestmentType\"]=file_data[\"InvestmentType\"].str.capitalize()\n",
    "file_data[\"InvestmentType\"]=file_data[\"InvestmentType\"].str.replace(\" \",\"\")\n",
    "\n",
    "\n",
    "\n",
    "d={}\n",
    "val=file_data.index\n",
    "for i in val:\n",
    "    a=file_data[\"InvestorsName\"][i].strip()\n",
    "    if (file_data[\"InvestmentType\"][i]==\"Seedfunding\") or (file_data[\"InvestmentType\"][i]==\"Crowdfunding\"):\n",
    "        if \",\" in a:\n",
    "            aa=a.split(\",\")\n",
    "            for ele in aa:\n",
    "                ele=ele.strip()\n",
    "                if ele in d:\n",
    "                    d[ele].add(file_data[\"StartupName\"][i].strip())\n",
    "                else:\n",
    "                    s=set()\n",
    "                    d[ele]=s\n",
    "                    d[ele].add(file_data[\"StartupName\"][i].strip())\n",
    "        else:\n",
    "            if a in d:\n",
    "                d[a].add(file_data[\"StartupName\"][i].strip())\n",
    "            else:\n",
    "                s=set()\n",
    "                d[a]=s\n",
    "                d[a].add(file_data[\"StartupName\"][i].strip())\n",
    "dd={}           \n",
    "for i in d:\n",
    "    if i == \"\" or i==\"Undisclosed Investors\" or i==\"Undisclosed investors\":\n",
    "        continue\n",
    "    dd[i] = len(d[i])\n",
    "answ=sorted(dd,key=dd.get,reverse=True)[0:5]\n",
    "for ele in answ:\n",
    "    print(ele)\n",
    "\n"
   ]
  },
  {
   "cell_type": "markdown",
   "metadata": {},
   "source": [
    "# Code Explanation\n",
    "In the fourth question we have to find the top 5 investors who have invested in a different number of startups and their investment type is Crowdfunding or Seed Funding.\n",
    "So for doing this I have done the following steps:\n",
    "1)Importing the libraries Pandas and Matplotlib.\n",
    "2)Reading the file through pd.read_csv fuction.\n",
    "3)Cleaning the dataset by removing the Nan Values and making changes in the column \"StartupName\" and \"InvestmentType\".\n",
    "4)Creating the dictionary consisting of the investors name as key and a set consisting of the startup name in which that investor has invested with the type of investment as seed funding or crowd funding as value of that key. 5)Now creating another dictionary with the help of previous dictionary with the investors name as key(ignoring undisclosed investors) and the number of distinct startups in which he has invested as value.\n",
    "5)Now sorting the new dictionary in descending order and printing the list of top 5 investors .\n",
    "# Result\n",
    "So the top 5 investors who have invested in a different number of startups and their investment type is Crowdfunding or Seed Funding are:\n",
    "Indian Angel Network\n",
    "Rajan Anandan\n",
    "LetsVenture\n",
    "Anupam Mittal\n",
    "Kunal Shah\n"
   ]
  },
  {
   "cell_type": "code",
   "execution_count": 17,
   "metadata": {},
   "outputs": [
    {
     "name": "stdout",
     "output_type": "stream",
     "text": [
      "Sequoia Capital\n",
      "Accel Partners\n",
      "Kalaari Capital\n",
      "Blume Ventures\n",
      "SAIF Partners\n"
     ]
    }
   ],
   "source": [
    "#Question 5\n",
    "import pandas as pd\n",
    "import matplotlib.pyplot as plt\n",
    "file_data=pd.read_csv(r\"C:\\Users\\nidhi\\Desktop\\startup_funding.csv\")\n",
    "file_data.dropna(subset=[\"InvestorsName\",\"StartupName\",\"InvestmentType\"],inplace=True)\n",
    "file_data[\"StartupName\"].replace(\"Flipkart.com\",\"Flipkart\",inplace = True)\n",
    "file_data[\"StartupName\"].replace(\"Ola Cabs\",\"Ola\",inplace = True)\n",
    "file_data[\"StartupName\"].replace(\"Olacabs\",\"Ola\",inplace = True)\n",
    "file_data[\"StartupName\"].replace(\"Oyorooms\",\"Oyo\",inplace = True)\n",
    "file_data[\"StartupName\"].replace(\"OyoRooms\",\"Oyo\",inplace = True)\n",
    "file_data[\"StartupName\"].replace(\"OYO Rooms\",\"Oyo\",inplace = True)\n",
    "file_data[\"StartupName\"].replace(\"Oyo Rooms\",\"Oyo\",inplace = True)\n",
    "file_data[\"StartupName\"].replace(\"Paytm Marketplace\",\"Paytm\",inplace = True)\n",
    "file_data[\"InvestmentType\"]=file_data[\"InvestmentType\"].str.capitalize()\n",
    "file_data[\"InvestmentType\"]=file_data[\"InvestmentType\"].str.replace(\" \",\"\")\n",
    "\n",
    "\n",
    "\n",
    "d={}\n",
    "val=file_data.index\n",
    "for i in val:\n",
    "    a=file_data[\"InvestorsName\"][i].strip()\n",
    "    if (file_data[\"InvestmentType\"][i]==\"Privateequity\"):\n",
    "        if \",\" in a:\n",
    "            aa=a.split(\",\")\n",
    "            for ele in aa:\n",
    "                ele=ele.strip()\n",
    "                if ele in d:\n",
    "                    d[ele].add(file_data[\"StartupName\"][i].strip())\n",
    "                else:\n",
    "                    s=set()\n",
    "                    d[ele]=s\n",
    "                    d[ele].add(file_data[\"StartupName\"][i].strip())\n",
    "        else:\n",
    "            if a in d:\n",
    "                d[a].add(file_data[\"StartupName\"][i].strip())\n",
    "            else:\n",
    "                s=set()\n",
    "                d[a]=s\n",
    "                d[a].add(file_data[\"StartupName\"][i].strip())\n",
    "dd={}           \n",
    "for i in d:\n",
    "    if i == \"\" or i==\"Undisclosed Investors\" or i==\"Undisclosed investors\":\n",
    "        continue\n",
    "    dd[i] = len(d[i])\n",
    "answ=sorted(dd,key=dd.get,reverse=True)[0:5]\n",
    "for ele in answ:\n",
    "    print(ele)\n"
   ]
  },
  {
   "cell_type": "markdown",
   "metadata": {},
   "source": [
    "# Code Explanation\n",
    "In the Fifth question we have to find the top 5 investors who have invested in a different number of startups and their investment type is Private Equity.\n",
    "So for doing this we have done the following steps:\n",
    "1)Importing the libraries Pandas and Matplotlib. 2)Reading the file through pd.read_csv fuction. 3)Cleaning the dataset by removing the Nan Values and making changes in the column \"StartupName\" and \"InvestmentType\". 4)Creating the dictionary consisting of the investors name as key and a set consisting of the startup name in which that investor has invested with the type of investment as Private Equity as value of that key. 5)Now creating another dictionary with the help of previous dictionary with the investors name as key(ignoring undisclosed investors) and the number of distinct startups in which he has invested as value. 5)Now sorting the new dictionary in descending order and printing the list of top 5 investors .\n",
    "# Result\n",
    "So the top 5 investors who have invested in a different number of startups and their investment type is Private Equity are:\n",
    "Sequoia Capital\n",
    "Accel Partners\n",
    "Kalaari Capital\n",
    "Blume Ventures\n",
    "SAIF Partners\n"
   ]
  }
 ],
 "metadata": {
  "kernelspec": {
   "display_name": "Python 3",
   "language": "python",
   "name": "python3"
  },
  "language_info": {
   "codemirror_mode": {
    "name": "ipython",
    "version": 3
   },
   "file_extension": ".py",
   "mimetype": "text/x-python",
   "name": "python",
   "nbconvert_exporter": "python",
   "pygments_lexer": "ipython3",
   "version": "3.7.4"
  }
 },
 "nbformat": 4,
 "nbformat_minor": 2
}
